{
  "nbformat": 4,
  "nbformat_minor": 0,
  "metadata": {
    "colab": {
      "provenance": [],
      "authorship_tag": "ABX9TyOw646iziz/hNHwXCTfot7L",
      "include_colab_link": true
    },
    "kernelspec": {
      "name": "python3",
      "display_name": "Python 3"
    },
    "language_info": {
      "name": "python"
    }
  },
  "cells": [
    {
      "cell_type": "markdown",
      "metadata": {
        "id": "view-in-github",
        "colab_type": "text"
      },
      "source": [
        "<a href=\"https://colab.research.google.com/github/sankar-md/192121005_Compiler-Design/blob/main/set1.ipynb\" target=\"_parent\"><img src=\"https://colab.research.google.com/assets/colab-badge.svg\" alt=\"Open In Colab\"/></a>"
      ]
    },
    {
      "cell_type": "code",
      "execution_count": 3,
      "metadata": {
        "colab": {
          "base_uri": "https://localhost:8080/"
        },
        "id": "iLI0kOdsMbhb",
        "outputId": "bea0f677-2bab-4ef3-d091-34d5f6c8c5e1"
      },
      "outputs": [
        {
          "output_type": "stream",
          "name": "stdout",
          "text": [
            "       age           job   marital  education default  balance housing loan  \\\n",
            "0       58    management   married   tertiary      no     2143     yes   no   \n",
            "1       44    technician    single  secondary      no       29     yes   no   \n",
            "2       33  entrepreneur   married  secondary      no        2     yes  yes   \n",
            "3       47   blue-collar   married    unknown      no     1506     yes   no   \n",
            "4       33       unknown    single    unknown      no        1      no   no   \n",
            "...    ...           ...       ...        ...     ...      ...     ...  ...   \n",
            "45206   51    technician   married   tertiary      no      825      no   no   \n",
            "45207   71       retired  divorced    primary      no     1729      no   no   \n",
            "45208   72       retired   married  secondary      no     5715      no   no   \n",
            "45209   57   blue-collar   married  secondary      no      668      no   no   \n",
            "45210   37  entrepreneur   married  secondary      no     2971      no   no   \n",
            "\n",
            "         contact  day month  duration  campaign  pdays  previous poutcome    y  \n",
            "0        unknown    5   may       261         1     -1         0  unknown   no  \n",
            "1        unknown    5   may       151         1     -1         0  unknown   no  \n",
            "2        unknown    5   may        76         1     -1         0  unknown   no  \n",
            "3        unknown    5   may        92         1     -1         0  unknown   no  \n",
            "4        unknown    5   may       198         1     -1         0  unknown   no  \n",
            "...          ...  ...   ...       ...       ...    ...       ...      ...  ...  \n",
            "45206   cellular   17   nov       977         3     -1         0  unknown  yes  \n",
            "45207   cellular   17   nov       456         2     -1         0  unknown  yes  \n",
            "45208   cellular   17   nov      1127         5    184         3  success  yes  \n",
            "45209  telephone   17   nov       508         4     -1         0  unknown   no  \n",
            "45210   cellular   17   nov       361         2    188        11    other   no  \n",
            "\n",
            "[45211 rows x 17 columns]\n"
          ]
        }
      ],
      "source": [
        "import pandas as pd\n",
        "import numpy as np\n",
        "from pandas import read_csv\n",
        "import matplotlib.pyplot as plt\n",
        "import warnings\n",
        "warnings.filterwarnings('ignore')\n",
        "import os\n",
        "\n",
        "linkname = 'bank-full.csv'\n",
        "dataset1 = pd.read_csv(linkname, sep = ';')\n",
        "print(dataset1)"
      ]
    },
    {
      "cell_type": "code",
      "source": [
        "condition = dataset1.poutcome == 'other'\n",
        "dataset2 = dataset1.drop(dataset1[condition].index, axis = 0, inplace = False)\n",
        "dataset2[['job','education']] = dataset2[['job','education']].replace(['unknown'],'other')"
      ],
      "metadata": {
        "id": "XvghC1JVOKS-"
      },
      "execution_count": 5,
      "outputs": []
    },
    {
      "cell_type": "code",
      "source": [
        "from scipy.stats import zscore\n",
        "\n",
        "dataset2[['balance']].mean()\n",
        "dataset2[['balance']].mean()\n",
        "\n",
        "dataset2['balance_outliers'] = dataset2['balance']\n",
        "dataset2['balance_outliers']= zscore(dataset2['balance_outliers'])\n",
        "\n",
        "condition1 = (dataset2['balance_outliers']>3) | (dataset2['balance_outliers']<-3 )\n",
        "dataset3 = dataset2.drop(dataset2[condition1].index, axis = 0, inplace = False)\n",
        "dataset4 = dataset3.drop('balance_outliers', axis=1)"
      ],
      "metadata": {
        "id": "R8U5J8sGOW5C"
      },
      "execution_count": 6,
      "outputs": []
    },
    {
      "cell_type": "code",
      "source": [
        "dataset4.rename(index=str, columns={'y': 'response'}, inplace = True)\n",
        "\n",
        "def convert(dataset4, new_column, old_column):\n",
        "    dataset4[new_column] = dataset4[old_column].apply(lambda x: 0 if x == 'no' else 1)\n",
        "    return dataset4[new_column].value_counts()\n",
        "\n",
        "convert(dataset4, \"response_binary\", \"response\")"
      ],
      "metadata": {
        "colab": {
          "base_uri": "https://localhost:8080/"
        },
        "id": "C0NO6rMZOfDE",
        "outputId": "05112416-5bf1-4b75-c9bd-80509477a35d"
      },
      "execution_count": 7,
      "outputs": [
        {
          "output_type": "execute_result",
          "data": {
            "text/plain": [
              "0    37785\n",
              "1     4870\n",
              "Name: response_binary, dtype: int64"
            ]
          },
          "metadata": {},
          "execution_count": 7
        }
      ]
    },
    {
      "cell_type": "code",
      "source": [
        "dataset5 = dataset4.drop('contact', axis=1)\n",
        "dataset5['duration'] = dataset5['duration'].apply(lambda n:n/60).round(2)"
      ],
      "metadata": {
        "id": "Rsuu5q41Oky_"
      },
      "execution_count": 9,
      "outputs": []
    }
  ]
}